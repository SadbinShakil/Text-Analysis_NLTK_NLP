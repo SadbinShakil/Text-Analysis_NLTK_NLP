{
  "nbformat": 4,
  "nbformat_minor": 0,
  "metadata": {
    "colab": {
      "provenance": [],
      "authorship_tag": "ABX9TyMI/5kNquKRDfECFGFPdWtC",
      "include_colab_link": true
    },
    "kernelspec": {
      "name": "python3",
      "display_name": "Python 3"
    },
    "language_info": {
      "name": "python"
    },
    "accelerator": "GPU",
    "gpuClass": "standard"
  },
  "cells": [
    {
      "cell_type": "markdown",
      "metadata": {
        "id": "view-in-github",
        "colab_type": "text"
      },
      "source": [
        "<a href=\"https://colab.research.google.com/github/SadbinShakil/Text-Analysis_NLTK_NLP/blob/main/Text_Analysis.ipynb\" target=\"_parent\"><img src=\"https://colab.research.google.com/assets/colab-badge.svg\" alt=\"Open In Colab\"/></a>"
      ]
    },
    {
      "cell_type": "markdown",
      "source": [
        "## Text Analysis with NLTK"
      ],
      "metadata": {
        "id": "oE3La_KhLRD0"
      }
    },
    {
      "cell_type": "code",
      "execution_count": null,
      "metadata": {
        "colab": {
          "base_uri": "https://localhost:8080/"
        },
        "id": "JelLglJwK9L3",
        "outputId": "67eb3279-56f1-4568-b32b-68ac83f62f6e"
      },
      "outputs": [
        {
          "output_type": "stream",
          "name": "stderr",
          "text": [
            "[nltk_data] Downloading package punkt to /root/nltk_data...\n",
            "[nltk_data]   Unzipping tokenizers/punkt.zip.\n"
          ]
        },
        {
          "output_type": "execute_result",
          "data": {
            "text/plain": [
              "True"
            ]
          },
          "metadata": {},
          "execution_count": 1
        }
      ],
      "source": [
        "import nltk\n",
        "nltk.download('punkt')\n"
      ]
    },
    {
      "cell_type": "markdown",
      "source": [
        "# Tokenization"
      ],
      "metadata": {
        "id": "mpXMkoAcLp9M"
      }
    },
    {
      "cell_type": "markdown",
      "source": [
        "Sentance tokenization"
      ],
      "metadata": {
        "id": "Lt1e4BHKMct2"
      }
    },
    {
      "cell_type": "code",
      "source": [
        "from nltk.tokenize import sent_tokenize\n",
        "text = \"\"\"Hello Miss.Vanita, what are you doing today? The weather is great, and city is awesome. The syk is pinkish-blue.\"\"\"\n",
        "tokenized_sent = sent_tokenize(text)\n",
        "print(tokenized_sent)"
      ],
      "metadata": {
        "colab": {
          "base_uri": "https://localhost:8080/"
        },
        "id": "9Fngr0juLpmk",
        "outputId": "23aa05e5-55e1-473c-9844-e9a0eec24508"
      },
      "execution_count": null,
      "outputs": [
        {
          "output_type": "stream",
          "name": "stdout",
          "text": [
            "['Hello Miss.Vanita, what are you doing today?', 'The weather is great, and city is awesome.', 'The syk is pinkish-blue.']\n"
          ]
        }
      ]
    },
    {
      "cell_type": "markdown",
      "source": [
        "Word tokenization\n"
      ],
      "metadata": {
        "id": "JyK8YuX_Me6e"
      }
    },
    {
      "cell_type": "code",
      "source": [
        "from nltk.tokenize import word_tokenize\n",
        "tokenized_word = word_tokenize(text)\n",
        "print(tokenized_word)"
      ],
      "metadata": {
        "colab": {
          "base_uri": "https://localhost:8080/"
        },
        "id": "x398bkQlLBNv",
        "outputId": "1c1b60f0-d7aa-4a3d-842a-d8503e2fdffc"
      },
      "execution_count": null,
      "outputs": [
        {
          "output_type": "stream",
          "name": "stdout",
          "text": [
            "['Hello', 'Miss.Vanita', ',', 'what', 'are', 'you', 'doing', 'today', '?', 'The', 'weather', 'is', 'great', ',', 'and', 'city', 'is', 'awesome', '.', 'The', 'syk', 'is', 'pinkish-blue', '.']\n"
          ]
        }
      ]
    },
    {
      "cell_type": "markdown",
      "source": [
        "Frequency distribution"
      ],
      "metadata": {
        "id": "sijjvTSjNQ0t"
      }
    },
    {
      "cell_type": "code",
      "source": [
        "from nltk.probability import FreqDist\n",
        "fdist = FreqDist(tokenized_word)\n",
        "print(fdist)"
      ],
      "metadata": {
        "colab": {
          "base_uri": "https://localhost:8080/"
        },
        "id": "Qa0pniCeLBLU",
        "outputId": "0c8253c1-499d-43fe-f598-23b8da5893fb"
      },
      "execution_count": null,
      "outputs": [
        {
          "output_type": "stream",
          "name": "stdout",
          "text": [
            "<FreqDist with 19 samples and 24 outcomes>\n"
          ]
        }
      ]
    },
    {
      "cell_type": "code",
      "source": [
        "fdist.most_common(2)"
      ],
      "metadata": {
        "colab": {
          "base_uri": "https://localhost:8080/"
        },
        "id": "tSum9_gMLBIt",
        "outputId": "e30d6a7e-5eb8-4fab-f7ad-c9b325d17013"
      },
      "execution_count": null,
      "outputs": [
        {
          "output_type": "execute_result",
          "data": {
            "text/plain": [
              "[('is', 3), (',', 2)]"
            ]
          },
          "metadata": {},
          "execution_count": 5
        }
      ]
    },
    {
      "cell_type": "markdown",
      "source": [
        "Frequency distribution plot"
      ],
      "metadata": {
        "id": "Bll0NglwNxJM"
      }
    },
    {
      "cell_type": "code",
      "source": [
        "import matplotlib.pyplot as plt\n",
        "fdist.plot(30)\n",
        "plt.show()"
      ],
      "metadata": {
        "colab": {
          "base_uri": "https://localhost:8080/",
          "height": 330
        },
        "id": "ab_6FLepLBF3",
        "outputId": "dc2f4094-313e-4078-8003-2dc41e1dd7a5"
      },
      "execution_count": null,
      "outputs": [
        {
          "output_type": "display_data",
          "data": {
            "text/plain": [
              "<Figure size 432x288 with 1 Axes>"
            ],
            "image/png": "[encoded data removed]"
          },
          "metadata": {
            "needs_background": "light"
          }
        }
      ]
    },
    {
      "cell_type": "markdown",
      "source": [
        "Removing stopwords(am, is,are,this,a,an,the,etc)"
      ],
      "metadata": {
        "id": "HWg0hbZPOjhu"
      }
    },
    {
      "cell_type": "code",
      "source": [
        "from nltk.corpus import stopwords\n",
        "nltk.download('stopwords')\n",
        "stop_words = set(stopwords.words(\"english\"))\n",
        "print(stop_words)"
      ],
      "metadata": {
        "colab": {
          "base_uri": "https://localhost:8080/"
        },
        "id": "SHc1W5b7LBC9",
        "outputId": "1cf9c4e7-4a01-4138-c5f4-a4f090d02b9c"
      },
      "execution_count": null,
      "outputs": [
        {
          "output_type": "stream",
          "name": "stdout",
          "text": [
            "{'for', 't', 'hers', 'down', 'below', 'before', \"wouldn't\", 'y', 'between', 'yours', 'here', 'yourselves', 'mustn', 'had', 'why', 'the', 'll', 'once', 'don', 'into', 'under', \"didn't\", 'her', 'his', 'be', 'having', 'himself', 'through', 'did', 'few', \"doesn't\", 'where', \"should've\", 'this', 'itself', 'are', 'myself', 'can', 'because', 'over', 'an', 'him', 'wasn', 're', 'then', \"hadn't\", 'being', 'not', \"mustn't\", 'hadn', 'my', \"you're\", 'off', 'more', 'by', 'other', \"wasn't\", 'a', 'all', 'doing', 'theirs', 'shouldn', 'am', 'just', \"mightn't\", \"it's\", 'after', 'while', \"that'll\", 'your', 'doesn', \"couldn't\", 'these', 'there', 'nor', 'who', 'most', 'themselves', 'during', 'he', 'but', 'about', 'any', 'yourself', 'haven', \"isn't\", 'wouldn', 'shan', 'have', 'was', 'that', 'on', 'is', 'in', 'do', 'o', \"don't\", 'with', \"weren't\", 'ain', 'or', 'against', 'hasn', 'isn', 'when', 'i', 'both', \"you've\", 'each', 'own', 'again', 'needn', 'our', 'now', \"aren't\", 'further', 'couldn', 'up', 'should', 'same', \"you'd\", 'their', 'how', 'won', 'as', \"shouldn't\", 'd', 'ours', 'out', 'very', 'its', 'didn', 'ma', 'and', 'ourselves', 'whom', \"hasn't\", 'will', 'were', 'aren', 'm', 'than', 's', 'of', 've', 'above', 'until', \"you'll\", \"needn't\", 'been', 'at', 'she', 'they', 'some', 'has', 'me', 'too', 'mightn', 'them', 'what', 'from', 'herself', 'you', \"haven't\", 'such', 'those', 'so', 'we', 'which', 'if', \"shan't\", 'no', 'does', 'only', \"won't\", 'to', 'it', \"she's\", 'weren'}\n"
          ]
        },
        {
          "output_type": "stream",
          "name": "stderr",
          "text": [
            "[nltk_data] Downloading package stopwords to /root/nltk_data...\n",
            "[nltk_data]   Unzipping corpora/stopwords.zip.\n"
          ]
        }
      ]
    },
    {
      "cell_type": "code",
      "source": [
        "filtered_sent = []\n",
        "for w in tokenized_word:\n",
        "  if w not in stop_words:\n",
        "    filtered_sent.append(w)\n",
        "print(\"tokenized Sentance:\", tokenized_word)\n",
        "print(\"Filtered Sentance:\", filtered_sent)"
      ],
      "metadata": {
        "colab": {
          "base_uri": "https://localhost:8080/"
        },
        "id": "v7X9T0qlLBAV",
        "outputId": "9302a31c-e7cc-4067-f4b0-3cd158baf71d"
      },
      "execution_count": null,
      "outputs": [
        {
          "output_type": "stream",
          "name": "stdout",
          "text": [
            "tokenized Sentance: ['Hello', 'Miss.Vanita', ',', 'what', 'are', 'you', 'doing', 'today', '?', 'The', 'weather', 'is', 'great', ',', 'and', 'city', 'is', 'awesome', '.', 'The', 'syk', 'is', 'pinkish-blue', '.']\n",
            "Filtered Sentance: ['Hello', 'Miss.Vanita', ',', 'today', '?', 'The', 'weather', 'great', ',', 'city', 'awesome', '.', 'The', 'syk', 'pinkish-blue', '.']\n"
          ]
        }
      ]
    },
    {
      "cell_type": "markdown",
      "source": [
        "Stemming(Take root word for several common words)"
      ],
      "metadata": {
        "id": "yUcuK9LtQB_l"
      }
    },
    {
      "cell_type": "code",
      "source": [
        "from nltk.stem import PorterStemmer\n",
        "\n",
        "from nltk.tokenize import sent_tokenize, word_tokenize\n",
        "\n",
        "ps = PorterStemmer()\n",
        "stemmed_word = []\n",
        "for w in filtered_sent:\n",
        "  stemmed_word.append(ps.stem(w))\n",
        "\n",
        "print(\"Filtered Sentance:\", filtered_sent)\n",
        "print(\"Stemmed Sentance:\", stemmed_word)"
      ],
      "metadata": {
        "colab": {
          "base_uri": "https://localhost:8080/"
        },
        "id": "wsM2ZxLCLA9c",
        "outputId": "33edd42e-4c1b-4f16-d1db-577f5a6fa435"
      },
      "execution_count": null,
      "outputs": [
        {
          "output_type": "stream",
          "name": "stdout",
          "text": [
            "Filtered Sentance: ['Hello', 'Miss.Vanita', ',', 'today', '?', 'The', 'weather', 'great', ',', 'city', 'awesome', '.', 'The', 'syk', 'pinkish-blue', '.']\n",
            "Stemmed Sentance: ['hello', 'miss.vanita', ',', 'today', '?', 'the', 'weather', 'great', ',', 'citi', 'awesom', '.', 'the', 'syk', 'pinkish-blu', '.']\n"
          ]
        }
      ]
    },
    {
      "cell_type": "markdown",
      "source": [
        "Lemmatization(Reduces words to their base words)"
      ],
      "metadata": {
        "id": "-olt7HlARFnG"
      }
    },
    {
      "cell_type": "code",
      "source": [
        "nltk.download('wordnet')\n",
        "nltk.download('omw-1.4')"
      ],
      "metadata": {
        "colab": {
          "base_uri": "https://localhost:8080/"
        },
        "id": "kPdixN27F-zJ",
        "outputId": "2e382b99-2fcc-4f19-b6da-7b4cfde38b6a"
      },
      "execution_count": null,
      "outputs": [
        {
          "output_type": "stream",
          "name": "stderr",
          "text": [
            "[nltk_data] Downloading package wordnet to /root/nltk_data...\n",
            "[nltk_data] Downloading package omw-1.4 to /root/nltk_data...\n"
          ]
        },
        {
          "output_type": "execute_result",
          "data": {
            "text/plain": [
              "True"
            ]
          },
          "metadata": {},
          "execution_count": 10
        }
      ]
    },
    {
      "cell_type": "code",
      "source": [
        "from nltk.stem.wordnet import WordNetLemmatizer\n",
        "lem = WordNetLemmatizer()\n",
        "\n",
        "from nltk.stem.porter import PorterStemmer\n",
        "stem = PorterStemmer()\n",
        "\n",
        "word = \"Beginers\"\n",
        "print(\"Lemamatized Sentance:\", lem.lemmatize(word,\"v\"))\n",
        "print(\"Stemmed Sentance:\", stem.stem(word))"
      ],
      "metadata": {
        "colab": {
          "base_uri": "https://localhost:8080/"
        },
        "id": "m46Bjr2oLA6s",
        "outputId": "5e97a13b-e2f8-48b1-9b66-e3e6665f2037"
      },
      "execution_count": null,
      "outputs": [
        {
          "output_type": "stream",
          "name": "stdout",
          "text": [
            "Lemamatized Sentance: Beginers\n",
            "Stemmed Sentance: begin\n"
          ]
        }
      ]
    },
    {
      "cell_type": "markdown",
      "source": [
        "Pos Tagging"
      ],
      "metadata": {
        "id": "1Ol2w3UXUUh7"
      }
    },
    {
      "cell_type": "code",
      "source": [
        "sent = \"Hello Miss.Vanita, what are you doing today? The weather is great, and city is awesome. The syk is pinkish-blue.\""
      ],
      "metadata": {
        "id": "_zhbTmFJLA4J"
      },
      "execution_count": null,
      "outputs": []
    },
    {
      "cell_type": "code",
      "source": [
        "nltk.download('averaged_perceptron_tagger')\n",
        "nltk.download('tagsets')"
      ],
      "metadata": {
        "colab": {
          "base_uri": "https://localhost:8080/"
        },
        "id": "RtcoZm67U0vb",
        "outputId": "e98729ef-42d1-4303-ddfd-b0323c8df42d"
      },
      "execution_count": null,
      "outputs": [
        {
          "output_type": "stream",
          "name": "stderr",
          "text": [
            "[nltk_data] Downloading package averaged_perceptron_tagger to\n",
            "[nltk_data]     /root/nltk_data...\n",
            "[nltk_data]   Unzipping taggers/averaged_perceptron_tagger.zip.\n",
            "[nltk_data] Downloading package tagsets to /root/nltk_data...\n",
            "[nltk_data]   Unzipping help/tagsets.zip.\n"
          ]
        },
        {
          "output_type": "execute_result",
          "data": {
            "text/plain": [
              "True"
            ]
          },
          "metadata": {},
          "execution_count": 13
        }
      ]
    },
    {
      "cell_type": "code",
      "source": [
        "tokens = nltk.word_tokenize(sent)\n",
        "print(tokens)\n",
        "\n"
      ],
      "metadata": {
        "colab": {
          "base_uri": "https://localhost:8080/"
        },
        "id": "sOeOiusLLA1z",
        "outputId": "92d943d6-9b0c-4e90-e0e1-169d9437b33e"
      },
      "execution_count": null,
      "outputs": [
        {
          "output_type": "stream",
          "name": "stdout",
          "text": [
            "['Hello', 'Miss.Vanita', ',', 'what', 'are', 'you', 'doing', 'today', '?', 'The', 'weather', 'is', 'great', ',', 'and', 'city', 'is', 'awesome', '.', 'The', 'syk', 'is', 'pinkish-blue', '.']\n"
          ]
        }
      ]
    },
    {
      "cell_type": "code",
      "source": [
        "nltk.pos_tag(tokens)"
      ],
      "metadata": {
        "colab": {
          "base_uri": "https://localhost:8080/"
        },
        "id": "zRPxAiUbVHU9",
        "outputId": "62582c55-1593-46b3-a9b5-2401ddea9e5a"
      },
      "execution_count": null,
      "outputs": [
        {
          "output_type": "execute_result",
          "data": {
            "text/plain": [
              "[('Hello', 'NNP'),\n",
              " ('Miss.Vanita', 'NNP'),\n",
              " (',', ','),\n",
              " ('what', 'WP'),\n",
              " ('are', 'VBP'),\n",
              " ('you', 'PRP'),\n",
              " ('doing', 'VBG'),\n",
              " ('today', 'NN'),\n",
              " ('?', '.'),\n",
              " ('The', 'DT'),\n",
              " ('weather', 'NN'),\n",
              " ('is', 'VBZ'),\n",
              " ('great', 'JJ'),\n",
              " (',', ','),\n",
              " ('and', 'CC'),\n",
              " ('city', 'NN'),\n",
              " ('is', 'VBZ'),\n",
              " ('awesome', 'JJ'),\n",
              " ('.', '.'),\n",
              " ('The', 'DT'),\n",
              " ('syk', 'NN'),\n",
              " ('is', 'VBZ'),\n",
              " ('pinkish-blue', 'JJ'),\n",
              " ('.', '.')]"
            ]
          },
          "metadata": {},
          "execution_count": 15
        }
      ]
    },
    {
      "cell_type": "code",
      "source": [
        "nltk.help.upenn_tagset('NN')"
      ],
      "metadata": {
        "colab": {
          "base_uri": "https://localhost:8080/"
        },
        "id": "e0Imbue0LAzJ",
        "outputId": "1e1816f3-9929-4594-e1a4-e520c65fe994"
      },
      "execution_count": null,
      "outputs": [
        {
          "output_type": "stream",
          "name": "stdout",
          "text": [
            "NN: noun, common, singular or mass\n",
            "    common-carrier cabbage knuckle-duster Casino afghan shed thermostat\n",
            "    investment slide humour falloff slick wind hyena override subhumanity\n",
            "    machinist ...\n"
          ]
        }
      ]
    },
    {
      "cell_type": "markdown",
      "source": [
        "### NLP and Text Mining Project"
      ],
      "metadata": {
        "id": "9mC2ErlaV0vc"
      }
    },
    {
      "cell_type": "code",
      "source": [
        "import os\n",
        "import nltk\n",
        "import nltk.corpus"
      ],
      "metadata": {
        "id": "BLrfSZDkLAwN"
      },
      "execution_count": null,
      "outputs": []
    },
    {
      "cell_type": "code",
      "source": [
        "nltk.download('gutenberg')"
      ],
      "metadata": {
        "colab": {
          "base_uri": "https://localhost:8080/"
        },
        "id": "nY42XjSZEPiB",
        "outputId": "8a5fbeb7-cdab-4533-b02e-4c82232c6022"
      },
      "execution_count": null,
      "outputs": [
        {
          "output_type": "stream",
          "name": "stderr",
          "text": [
            "[nltk_data] Downloading package gutenberg to /root/nltk_data...\n",
            "[nltk_data]   Unzipping corpora/gutenberg.zip.\n"
          ]
        },
        {
          "output_type": "execute_result",
          "data": {
            "text/plain": [
              "True"
            ]
          },
          "metadata": {},
          "execution_count": 18
        }
      ]
    },
    {
      "cell_type": "code",
      "source": [
        "print(os.listdir(nltk.data.find(\"corpora\")))"
      ],
      "metadata": {
        "colab": {
          "base_uri": "https://localhost:8080/"
        },
        "id": "ijHIT_NvEUzx",
        "outputId": "30a26184-3c4b-4586-8f40-1ea0e3ba556a"
      },
      "execution_count": null,
      "outputs": [
        {
          "output_type": "stream",
          "name": "stdout",
          "text": [
            "['stopwords.zip', 'stopwords', 'wordnet.zip', 'gutenberg.zip', 'omw-1.4.zip', 'gutenberg']\n"
          ]
        }
      ]
    },
    {
      "cell_type": "code",
      "source": [
        "nltk.corpus.gutenberg.fileids()"
      ],
      "metadata": {
        "id": "gOqbmPdzLAtF",
        "colab": {
          "base_uri": "https://localhost:8080/"
        },
        "outputId": "b2288480-8665-459d-f811-d5133f8104f6"
      },
      "execution_count": null,
      "outputs": [
        {
          "output_type": "execute_result",
          "data": {
            "text/plain": [
              "['austen-emma.txt',\n",
              " 'austen-persuasion.txt',\n",
              " 'austen-sense.txt',\n",
              " 'bible-kjv.txt',\n",
              " 'blake-poems.txt',\n",
              " 'bryant-stories.txt',\n",
              " 'burgess-busterbrown.txt',\n",
              " 'carroll-alice.txt',\n",
              " 'chesterton-ball.txt',\n",
              " 'chesterton-brown.txt',\n",
              " 'chesterton-thursday.txt',\n",
              " 'edgeworth-parents.txt',\n",
              " 'melville-moby_dick.txt',\n",
              " 'milton-paradise.txt',\n",
              " 'shakespeare-caesar.txt',\n",
              " 'shakespeare-hamlet.txt',\n",
              " 'shakespeare-macbeth.txt',\n",
              " 'whitman-leaves.txt']"
            ]
          },
          "metadata": {},
          "execution_count": 20
        }
      ]
    },
    {
      "cell_type": "code",
      "source": [
        "hamlet = nltk.corpus.gutenberg.words('shakespeare-hamlet.txt')\n",
        "print(hamlet)"
      ],
      "metadata": {
        "id": "t6Cl5EnJLAqe",
        "colab": {
          "base_uri": "https://localhost:8080/"
        },
        "outputId": "3fefb5da-144a-4e03-f81e-c5693b511ca6"
      },
      "execution_count": null,
      "outputs": [
        {
          "output_type": "execute_result",
          "data": {
            "text/plain": [
              "['[', 'The', 'Tragedie', 'of', 'Hamlet', 'by', ...]"
            ]
          },
          "metadata": {},
          "execution_count": 21
        }
      ]
    },
    {
      "cell_type": "code",
      "source": [
        "for word in hamlet[0:500]:\n",
        "  print(word, sep=' ', end=' ')"
      ],
      "metadata": {
        "id": "6XW8Pl4QLAn6",
        "colab": {
          "base_uri": "https://localhost:8080/"
        },
        "outputId": "1a0e9ab7-33fc-4b0f-a01b-256e7ba3aba6"
      },
      "execution_count": null,
      "outputs": [
        {
          "output_type": "stream",
          "name": "stdout",
          "text": [
            "[ The Tragedie of Hamlet by William Shakespeare 1599 ] Actus Primus . Scoena Prima . Enter Barnardo and Francisco two Centinels . Barnardo . Who ' s there ? Fran . Nay answer me : Stand & vnfold your selfe Bar . Long liue the King Fran . Barnardo ? Bar . He Fran . You come most carefully vpon your houre Bar . ' Tis now strook twelue , get thee to bed Francisco Fran . For this releefe much thankes : ' Tis bitter cold , And I am sicke at heart Barn . Haue you had quiet Guard ? Fran . Not a Mouse stirring Barn . Well , goodnight . If you do meet Horatio and Marcellus , the Riuals of my Watch , bid them make hast . Enter Horatio and Marcellus . Fran . I thinke I heare them . Stand : who ' s there ? Hor . Friends to this ground Mar . And Leige - men to the Dane Fran . Giue you good night Mar . O farwel honest Soldier , who hath relieu ' d you ? Fra . Barnardo ha ' s my place : giue you goodnight . Exit Fran . Mar . Holla Barnardo Bar . Say , what is Horatio there ? Hor . A peece of him Bar . Welcome Horatio , welcome good Marcellus Mar . What , ha ' s this thing appear ' d againe to night Bar . I haue seene nothing Mar . Horatio saies , ' tis but our Fantasie , And will not let beleefe take hold of him Touching this dreaded sight , twice seene of vs , Therefore I haue intreated him along With vs , to watch the minutes of this Night , That if againe this Apparition come , He may approue our eyes , and speake to it Hor . Tush , tush , ' twill not appeare Bar . Sit downe a - while , And let vs once againe assaile your eares , That are so fortified against our Story , What we two Nights haue seene Hor . Well , sit we downe , And let vs heare Barnardo speake of this Barn . Last night of all , When yond same Starre that ' s Westward from the Pole Had made his course t ' illume that part of Heauen Where now it burnes , Marcellus and my selfe , The Bell then beating one Mar . Peace , breake thee of : Enter the Ghost . Looke where it comes againe Barn . In the same figure , like the King that ' s dead Mar . Thou art a Scholler ; speake to it Horatio Barn . Lookes it not like the King ? Marke it Horatio Hora . Most like : It harrowes me with fear & wonder Barn . It would be spoke too Mar . Question it Horatio Hor . What art "
          ]
        }
      ]
    },
    {
      "cell_type": "code",
      "source": [
        "AI = \"\"\"artificial intelligence (AI), the ability of a digital computer or computer-controlled robot to perform tasks commonly associated with intelligent beings. The term is frequently applied to the project of developing systems endowed with the intellectual processes characteristic of humans, such as the ability to reason, discover meaning, generalize, or learn from past experience. Since the development of the digital computer in the 1940s, it has been demonstrated that computers can be programmed to carry out very complex tasks—as, for example, discovering proofs for mathematical theorems or playing chess—with great proficiency. Still, despite continuing advances in computer processing speed and memory capacity, there are as yet no programs that can match human flexibility over wider domains or in tasks requiring much everyday knowledge. On the other hand, some programs have attained the performance levels of human experts and professionals in performing certain specific tasks, so that artificial intelligence in this limited sense is found in applications as diverse as medical diagnosis, computer search engines, and voice or handwriting recognition. \"\"\""
      ],
      "metadata": {
        "id": "RZ5RSZcFLAlG"
      },
      "execution_count": null,
      "outputs": []
    },
    {
      "cell_type": "code",
      "source": [
        "type(AI)"
      ],
      "metadata": {
        "id": "VkLcurlYLAiu",
        "colab": {
          "base_uri": "https://localhost:8080/"
        },
        "outputId": "69c2c335-4331-4dec-c210-1db9c70bfa13"
      },
      "execution_count": null,
      "outputs": [
        {
          "output_type": "execute_result",
          "data": {
            "text/plain": [
              "str"
            ]
          },
          "metadata": {},
          "execution_count": 24
        }
      ]
    },
    {
      "cell_type": "code",
      "source": [
        "AI_tokens = word_tokenize(AI)\n",
        "print(AI_tokens)"
      ],
      "metadata": {
        "id": "1LM6VWzZGm-E"
      },
      "execution_count": null,
      "outputs": []
    },
    {
      "cell_type": "code",
      "source": [
        "from nltk.probability import FreqDist\n",
        "frdist = FreqDist()"
      ],
      "metadata": {
        "id": "OcnYdAz3LAf3"
      },
      "execution_count": null,
      "outputs": []
    },
    {
      "cell_type": "code",
      "source": [
        "for word in AI_tokens:\n",
        "  frdist[word.lower()]+=1\n",
        "print(frdist)"
      ],
      "metadata": {
        "id": "95pfeL2dLAdA",
        "colab": {
          "base_uri": "https://localhost:8080/"
        },
        "outputId": "fce5e2c9-bec6-458a-c0e6-3dcae112b8d9"
      },
      "execution_count": null,
      "outputs": [
        {
          "output_type": "execute_result",
          "data": {
            "text/plain": [
              "FreqDist({',': 14, 'the': 10, 'in': 6, 'of': 5, 'or': 5, '.': 5, 'computer': 4, 'to': 4, 'as': 4, 'tasks': 3, ...})"
            ]
          },
          "metadata": {},
          "execution_count": 27
        }
      ]
    },
    {
      "cell_type": "code",
      "source": [
        "frdist_top10 = frdist.most_common(10)\n",
        "print(frdist_top10)"
      ],
      "metadata": {
        "id": "Ml5YjwwwLAZ9",
        "colab": {
          "base_uri": "https://localhost:8080/"
        },
        "outputId": "2ef8d5a4-525f-4f21-e7e7-d025415edc0b"
      },
      "execution_count": null,
      "outputs": [
        {
          "output_type": "execute_result",
          "data": {
            "text/plain": [
              "[(',', 14),\n",
              " ('the', 10),\n",
              " ('in', 6),\n",
              " ('of', 5),\n",
              " ('or', 5),\n",
              " ('.', 5),\n",
              " ('computer', 4),\n",
              " ('to', 4),\n",
              " ('as', 4),\n",
              " ('tasks', 3)]"
            ]
          },
          "metadata": {},
          "execution_count": 28
        }
      ]
    },
    {
      "cell_type": "code",
      "source": [],
      "metadata": {
        "id": "lhpLl8bBLAXk"
      },
      "execution_count": null,
      "outputs": []
    },
    {
      "cell_type": "code",
      "source": [],
      "metadata": {
        "id": "_nVDMt5lLASW"
      },
      "execution_count": null,
      "outputs": []
    },
    {
      "cell_type": "code",
      "source": [],
      "metadata": {
        "id": "cHIUEzDLLAPx"
      },
      "execution_count": null,
      "outputs": []
    },
    {
      "cell_type": "code",
      "source": [],
      "metadata": {
        "id": "EAklKtvtLAMs"
      },
      "execution_count": null,
      "outputs": []
    },
    {
      "cell_type": "code",
      "source": [],
      "metadata": {
        "id": "8gSSHHnULAKE"
      },
      "execution_count": null,
      "outputs": []
    },
    {
      "cell_type": "code",
      "source": [],
      "metadata": {
        "id": "Nc9rKA9dLAHq"
      },
      "execution_count": null,
      "outputs": []
    },
    {
      "cell_type": "code",
      "source": [],
      "metadata": {
        "id": "0mk7uRTnLAFD"
      },
      "execution_count": null,
      "outputs": []
    },
    {
      "cell_type": "code",
      "source": [],
      "metadata": {
        "id": "N1veU8xTLACU"
      },
      "execution_count": null,
      "outputs": []
    },
    {
      "cell_type": "code",
      "source": [],
      "metadata": {
        "id": "UXUtIVUSK__t"
      },
      "execution_count": null,
      "outputs": []
    }
  ]
}